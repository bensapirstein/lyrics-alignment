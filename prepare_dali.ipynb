{
 "cells": [
  {
   "cell_type": "code",
   "execution_count": 1,
   "metadata": {},
   "outputs": [],
   "source": [
    "import os\n",
    "import DALI as dali_code\n",
    "dali_data_path = '/Users/bensa/MLDS/Signal Processing for AI/Lyric Sync/DALI_v2.0/annot_tismir'\n",
    "dali_data = dali_code.get_the_DALI_dataset(dali_data_path, skip=[], keep=[])"
   ]
  },
  {
   "cell_type": "code",
   "execution_count": 2,
   "metadata": {},
   "outputs": [
    {
     "data": {
      "text/plain": [
       "{'dataset_version': 0.0,\n",
       " 'audio': {'url': 'le6uFnLwqYU',\n",
       "  'path': 'DALI_v2.0/audio/0a0a723686924d228daef2a2f692d437.mp3',\n",
       "  'working': False},\n",
       " 'ground-truth': False,\n",
       " 'scores': {'NCC': 0.9386545655498632,\n",
       "  'manual': 0.0,\n",
       "  'pitch': {'Overall Accuracy': 0.3781733186953516,\n",
       "   'Raw Pitch Accuracy': 0.4444444444444444,\n",
       "   'Raw Chroma Accuracy': 0.48391812865497075,\n",
       "   'Voicing Recall': 0.40767937717170927,\n",
       "   'Voicing False Alarm': 0.39168782106115607}},\n",
       " 'artist': 'Bots',\n",
       " 'title': 'Zeven Dagen Lang',\n",
       " 'id': '0a0a723686924d228daef2a2f692d437',\n",
       " 'metadata': {'album': 'Voor God En Vaderland',\n",
       "  'release_date': '1976',\n",
       "  'language': 'dutch'}}"
      ]
     },
     "execution_count": 2,
     "metadata": {},
     "output_type": "execute_result"
    }
   ],
   "source": [
    "entry = dali_data['0a0a723686924d228daef2a2f692d437']\n",
    "entry.info"
   ]
  },
  {
   "cell_type": "markdown",
   "metadata": {},
   "source": [
    "### Get Audio\n",
    "Go over all songs, and get the audio of each song."
   ]
  },
  {
   "cell_type": "code",
   "execution_count": null,
   "metadata": {},
   "outputs": [],
   "source": [
    "import pandas as pd\n",
    "from utils.download_audio import download_and_convert_to_mp3\n",
    "from tqdm import tqdm\n",
    "\n",
    "# Initialize or load the progress dataframe\n",
    "progress_file = 'download_progress.csv'\n",
    "if os.path.exists(progress_file):\n",
    "    progress_df = pd.read_csv(progress_file, index_col=0)\n",
    "else:\n",
    "    progress_df = pd.DataFrame(columns=['track_id', 'status'])\n",
    "\n",
    "destination_folder = 'DALI/audio'\n",
    "\n",
    "if not os.path.exists(destination_folder):\n",
    "    os.makedirs(destination_folder)\n",
    "\n",
    "# Check which tracks have already been downloaded\n",
    "for track_id, track_entry in dali_data.items():\n",
    "    track_path = os.path.join(destination_folder, f\"{track_id}.mp3\")\n",
    "    if os.path.exists(track_path):\n",
    "        progress_df = progress_df.append({'track_id': track_id, 'status': 'Succeeded'}, ignore_index=True)\n",
    "    # else:\n",
    "    #     progress_df = progress_df.append({'track_id': track_id, 'status': 'Pending'}, ignore_index=True)\n",
    "\n",
    "# Remove duplicates if any\n",
    "progress_df.drop_duplicates(subset='track_id', keep='last', inplace=True)\n",
    "\n",
    "# Save the progress dataframe\n",
    "progress_df.to_csv(progress_file)\n",
    "\n",
    "# Filter out the tracks that need to be downloaded\n",
    "tracks_to_download = progress_df[~progress_df['status'].isin(['Succeeded', 'Failed'])]\n",
    "\n",
    "#.iloc[::-1]\n",
    "for index, row in tqdm(tracks_to_download.iterrows(), total=tracks_to_download.shape[0], desc=\"Downloading tracks\"):\n",
    "    track_id = row['track_id']\n",
    "    track_entry = dali_data[track_id]\n",
    "    \n",
    "    if download_and_convert_to_mp3(track_entry.info['audio']['url'], destination_folder, f\"{track_id}.mp3\"):\n",
    "        progress_df.loc[progress_df['track_id'] == track_id, 'status'] = 'Succeeded'\n",
    "    else:\n",
    "        progress_df.loc[progress_df['track_id'] == track_id, 'status'] = 'Failed'\n",
    "\n",
    "    # Save the progress after each attempt\n",
    "    progress_df.to_csv(progress_file)"
   ]
  },
  {
   "cell_type": "markdown",
   "metadata": {},
   "source": [
    "### 2. Separate vocals and accompaniment from music"
   ]
  },
  {
   "cell_type": "code",
   "execution_count": null,
   "metadata": {},
   "outputs": [],
   "source": [
    "from spleeter.separator import Separator\n",
    "import os\n",
    "from tqdm import tqdm\n",
    "\n",
    "base_dir = 'DALI/audio'\n",
    "output_folder = 'DALI/vocals'\n",
    "if not os.path.exists(output_folder):\n",
    "    os.makedirs(output_folder)\n",
    "\n",
    "def separate_vocals(input_path, output_path):\n",
    "    separator = Separator('spleeter:2stems')\n",
    "    separator.separate_to_file(input_path, destination=output_path)\n",
    "\n",
    "for track_id in tqdm(os.listdir(base_dir), desc=\"Processing MP3 files\"):\n",
    "    track_id = track_id[:-4]\n",
    "    input_file = os.path.join(base_dir, f\"{track_id}.mp3\")\n",
    "    output_file = os.path.join(output_folder, f\"{track_id}_vocals.mp3\")\n",
    "    \n",
    "    if os.path.exists(output_file):\n",
    "        print(f\"Skipping {track_id} as it has already been processed\")\n",
    "        continue\n",
    "    \n",
    "    try:\n",
    "        print(f\"Processing {track_id}\")\n",
    "        separate_vocals(input_file, output_folder)\n",
    "        # the output file is saved as {track_id}/vocals.wav, move it to {track_id}_vocals.wav and delete the folder with the {track_id}/accompaniment.wav\n",
    "        os.rename(os.path.join(output_folder, f\"{track_id}/vocals.wav\"), output_file)\n",
    "        os.remove(os.path.join(output_folder, f\"{track_id}/accompaniment.wav\"))\n",
    "        os.rmdir(os.path.join(output_folder, f\"{track_id}\"))\n",
    "    except Exception as e:\n",
    "        print(f\"Error processing {track_id}: {e}\")"
   ]
  }
 ],
 "metadata": {
  "kernelspec": {
   "display_name": "DeepAudio",
   "language": "python",
   "name": "python3"
  },
  "language_info": {
   "codemirror_mode": {
    "name": "ipython",
    "version": 3
   },
   "file_extension": ".py",
   "mimetype": "text/x-python",
   "name": "python",
   "nbconvert_exporter": "python",
   "pygments_lexer": "ipython3",
   "version": "3.10.15"
  }
 },
 "nbformat": 4,
 "nbformat_minor": 2
}
