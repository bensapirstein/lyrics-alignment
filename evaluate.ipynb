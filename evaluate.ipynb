{
 "cells": [
  {
   "cell_type": "code",
   "execution_count": null,
   "metadata": {},
   "outputs": [],
   "source": [
    "# load annotations and predictions\n",
    "import os\n",
    "import sys\n",
    "\n",
    "import pandas as pd\n",
    "\n",
    "# load Jamendo metadata\n",
    "def load_jamendo_metadata():\n",
    "    jamendo_meta = pd.read_csv(\"Lyric Sync/lyrics-alignment/jamendolyrics/JamendoLyrics.csv\")\n",
    "    return\n",
    "\n",
    "pred_path = \"data_pipeline/{lang}/predictions_{model}/{title}.csv\"\n",
    "ann_path = \"data_pipeline/{lang}/annotations/{title}.words.csv\""
   ]
  },
  {
   "cell_type": "code",
   "execution_count": 5,
   "metadata": {},
   "outputs": [],
   "source": [
    "jamendo_df = pd.read_csv(\"jamendolyrics/JamendoLyrics.csv\")"
   ]
  }
 ],
 "metadata": {
  "kernelspec": {
   "display_name": "DeepAudio",
   "language": "python",
   "name": "python3"
  },
  "language_info": {
   "codemirror_mode": {
    "name": "ipython",
    "version": 3
   },
   "file_extension": ".py",
   "mimetype": "text/x-python",
   "name": "python",
   "nbconvert_exporter": "python",
   "pygments_lexer": "ipython3",
   "version": "3.10.15"
  }
 },
 "nbformat": 4,
 "nbformat_minor": 2
}
