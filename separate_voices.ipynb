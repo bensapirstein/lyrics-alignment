{
 "cells": [
  {
   "cell_type": "code",
   "execution_count": 4,
   "metadata": {},
   "outputs": [
    {
     "name": "stderr",
     "output_type": "stream",
     "text": [
      "Processing MP3 files:   0%|          | 0/8 [00:00<?, ?it/s]"
     ]
    },
    {
     "name": "stdout",
     "output_type": "stream",
     "text": [
      "Processing יהודת רביץ - לקחת את ידי בידך.mp3\n"
     ]
    },
    {
     "name": "stderr",
     "output_type": "stream",
     "text": [
      "python(23440) MallocStackLogging: can't turn off malloc stack logging because it was not enabled.\n",
      "python(23441) MallocStackLogging: can't turn off malloc stack logging because it was not enabled.\n",
      "python(23442) MallocStackLogging: can't turn off malloc stack logging because it was not enabled.\n",
      "python(23443) MallocStackLogging: can't turn off malloc stack logging because it was not enabled.\n",
      "python(23444) MallocStackLogging: can't turn off malloc stack logging because it was not enabled.\n",
      "python(23445) MallocStackLogging: can't turn off malloc stack logging because it was not enabled.\n",
      "python(23446) MallocStackLogging: can't turn off malloc stack logging because it was not enabled.\n",
      "python(23447) MallocStackLogging: can't turn off malloc stack logging because it was not enabled.\n",
      "python(23448) MallocStackLogging: can't turn off malloc stack logging because it was not enabled.\n",
      "python(23452) MallocStackLogging: can't turn off malloc stack logging because it was not enabled.\n"
     ]
    },
    {
     "name": "stdout",
     "output_type": "stream",
     "text": [
      "INFO:tensorflow:Using config: {'_model_dir': 'pretrained_models/2stems', '_tf_random_seed': None, '_save_summary_steps': 100, '_save_checkpoints_steps': None, '_save_checkpoints_secs': 600, '_session_config': gpu_options {\n",
      "  per_process_gpu_memory_fraction: 0.7\n",
      "}\n",
      ", '_keep_checkpoint_max': 5, '_keep_checkpoint_every_n_hours': 10000, '_log_step_count_steps': 100, '_train_distribute': None, '_device_fn': None, '_protocol': None, '_eval_distribute': None, '_experimental_distribute': None, '_experimental_max_worker_delay_secs': None, '_session_creation_timeout_secs': 7200, '_checkpoint_save_graph_def': True, '_service': None, '_cluster_spec': ClusterSpec({}), '_task_type': 'worker', '_task_id': 0, '_global_id_in_cluster': 0, '_master': '', '_evaluation_master': '', '_is_chief': True, '_num_ps_replicas': 0, '_num_worker_replicas': 1}\n",
      "INFO:tensorflow:Calling model_fn.\n",
      "INFO:tensorflow:Apply unet for vocals_spectrogram\n",
      "INFO:tensorflow:Apply unet for accompaniment_spectrogram\n",
      "INFO:tensorflow:Done calling model_fn.\n",
      "INFO:tensorflow:Graph was finalized.\n",
      "INFO:tensorflow:Restoring parameters from pretrained_models/2stems/model\n",
      "INFO:tensorflow:Running local_init_op.\n",
      "INFO:tensorflow:Done running local_init_op.\n"
     ]
    },
    {
     "name": "stderr",
     "output_type": "stream",
     "text": [
      "Processing MP3 files: 100%|██████████| 8/8 [00:43<00:00,  5.42s/it]"
     ]
    },
    {
     "name": "stdout",
     "output_type": "stream",
     "text": [
      "INFO:spleeter:File separated/יהודת רביץ - לקחת את ידי בידך/vocals.wav written succesfully\n",
      "INFO:spleeter:File separated/יהודת רביץ - לקחת את ידי בידך/accompaniment.wav written succesfully\n",
      "Skipping Sherine - Sabry Aalil ｜ شيرين - صبري قليل.mp3 as it has already been processed\n",
      "Skipping עדן בן זקן - שורף לי בעיניים ｜ Eden Ben Zaken -  Soref Li Baeinaim.mp3 as it has already been processed\n",
      "Skipping Lamis Kan - Mesaytara (Official Music Video)｜ لميس كان - مسيطرة #lamiskan #mesaytara #مسيطرة.mp3 as it has already been processed\n",
      "Skipping A-WA - ＂Hana Mash Hu Al Yaman＂ (Official Video).mp3 as it has already been processed\n",
      "Skipping שיר עד - צדיק כתמר - מילים： מהמקורות (תהלים) ｜ לחן： אמיתי נאמן ｜ ביצוע： לא ידוע.mp3 as it has already been processed\n",
      "Skipping נסרין - לא לפנות אליי (Prod. by Jordi).mp3 as it has already been processed\n",
      "Skipping Haifa.mp3 as it has already been processed\n",
      "Finished processing and copying vocals!\n"
     ]
    },
    {
     "name": "stderr",
     "output_type": "stream",
     "text": [
      "\n"
     ]
    }
   ],
   "source": [
    "from spleeter.separator import Separator\n",
    "import os\n",
    "from tqdm import tqdm\n",
    "import shutil\n",
    "\n",
    "# variable to store the name of the separated files\n",
    "separated_folder = 'separated'\n",
    "vocals_folder = 'vocals'\n",
    "\n",
    "# Create directories if they don't exist\n",
    "os.makedirs(separated_folder, exist_ok=True)\n",
    "os.makedirs(vocals_folder, exist_ok=True)\n",
    "\n",
    "def separate_vocals(filename):\n",
    "    # Use spleeter to separate into files in a temporary directory, and return a reference to the directory\n",
    "    separator = Separator('spleeter:2stems')\n",
    "    separator.separate_to_file(filename, destination=separated_folder)\n",
    "\n",
    "mp3_folder = 'mp3'\n",
    "mp3_files = [file for file in os.listdir(mp3_folder) if file.endswith('.mp3')]\n",
    "\n",
    "for file in tqdm(mp3_files, desc=\"Processing MP3 files\"):\n",
    "    if os.path.exists(os.path.join(separated_folder, file[:-4])):\n",
    "        print(f\"Skipping {file} as it has already been processed\")\n",
    "        continue\n",
    "    try:\n",
    "        print(f\"Processing {file}\")\n",
    "        separate_vocals(os.path.join(mp3_folder, file))\n",
    "        \n",
    "        # Copy the resulted vocals after separation\n",
    "        song_name = file[:-4]\n",
    "        vocals_path = os.path.join(separated_folder, song_name, 'vocals.wav')\n",
    "        shutil.copy(vocals_path, os.path.join(vocals_folder, f'{song_name}_vocals.wav'))\n",
    "    except Exception as e:\n",
    "        print(f\"Error processing {file}: {e}\")\n",
    "\n",
    "print(\"Finished processing and copying vocals!\")"
   ]
  }
 ],
 "metadata": {
  "kernelspec": {
   "display_name": "DeepAudio",
   "language": "python",
   "name": "python3"
  },
  "language_info": {
   "codemirror_mode": {
    "name": "ipython",
    "version": 3
   },
   "file_extension": ".py",
   "mimetype": "text/x-python",
   "name": "python",
   "nbconvert_exporter": "python",
   "pygments_lexer": "ipython3",
   "version": "3.10.15"
  }
 },
 "nbformat": 4,
 "nbformat_minor": 2
}
