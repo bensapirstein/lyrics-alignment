{
 "cells": [
  {
   "cell_type": "code",
   "execution_count": 3,
   "metadata": {},
   "outputs": [
    {
     "name": "stderr",
     "output_type": "stream",
     "text": [
      "Processing MP3 files:   0%|          | 0/19 [00:00<?, ?it/s]"
     ]
    },
    {
     "name": "stdout",
     "output_type": "stream",
     "text": [
      "Skipping Les_files_d'attente_-_Law'.mp3 as it has already been processed\n",
      "Processing l'abandon_-_flo.mp3\n",
      "INFO:tensorflow:Using config: {'_model_dir': 'pretrained_models/2stems', '_tf_random_seed': None, '_save_summary_steps': 100, '_save_checkpoints_steps': None, '_save_checkpoints_secs': 600, '_session_config': gpu_options {\n",
      "  per_process_gpu_memory_fraction: 0.7\n",
      "}\n",
      ", '_keep_checkpoint_max': 5, '_keep_checkpoint_every_n_hours': 10000, '_log_step_count_steps': 100, '_train_distribute': None, '_device_fn': None, '_protocol': None, '_eval_distribute': None, '_experimental_distribute': None, '_experimental_max_worker_delay_secs': None, '_session_creation_timeout_secs': 7200, '_checkpoint_save_graph_def': True, '_service': None, '_cluster_spec': ClusterSpec({}), '_task_type': 'worker', '_task_id': 0, '_global_id_in_cluster': 0, '_master': '', '_evaluation_master': '', '_is_chief': True, '_num_ps_replicas': 0, '_num_worker_replicas': 1}\n",
      "INFO:tensorflow:Calling model_fn.\n",
      "INFO:tensorflow:Apply unet for vocals_spectrogram\n",
      "INFO:tensorflow:Apply unet for accompaniment_spectrogram\n",
      "INFO:tensorflow:Done calling model_fn.\n",
      "INFO:tensorflow:Graph was finalized.\n",
      "INFO:tensorflow:Restoring parameters from pretrained_models/2stems/model\n",
      "INFO:tensorflow:Running local_init_op.\n",
      "INFO:tensorflow:Done running local_init_op.\n"
     ]
    },
    {
     "name": "stderr",
     "output_type": "stream",
     "text": [
      "Processing MP3 files: 100%|██████████| 19/19 [00:37<00:00,  1.97s/it]\n"
     ]
    },
    {
     "name": "stdout",
     "output_type": "stream",
     "text": [
      "INFO:spleeter:File data_pipeline/French/separated/l'abandon_-_flo/vocals.wav written succesfully\n",
      "INFO:spleeter:File data_pipeline/French/separated/l'abandon_-_flo/accompaniment.wav written succesfully\n",
      "Skipping Mes_Larmes_-_kobzx2z.mp3 as it has already been processed\n",
      "Skipping Pas_que_tes_pas_-_AZUL.mp3 as it has already been processed\n",
      "Skipping de_bonne_humeur_-_Le_Nez_Tordu.mp3 as it has already been processed\n",
      "Skipping CHRISTMAS_AVEC_TOI_-_imfreshyourepretty.mp3 as it has already been processed\n",
      "Skipping Mère_nature_-_Law'.mp3 as it has already been processed\n",
      "Skipping DON_VALDES_-_Tu_sais_Man.mp3 as it has already been processed\n",
      "Skipping Le_royaume_des_glous_glous_-_Raoul_de_QSM.mp3 as it has already been processed\n",
      "Skipping Une_Vie_De_Roi_-_david.mp3 as it has already been processed\n",
      "Skipping En_liberté_-_tom.leyak.mp3 as it has already been processed\n",
      "Skipping Séculaire_feat._Nÿme_-_saru.mp3 as it has already been processed\n",
      "Skipping Le_musée_d'air_contemporain_-_KPTN.mp3 as it has already been processed\n",
      "Skipping Capotes_à_un_Franc_-_elmanu.mp3 as it has already been processed\n",
      "Skipping POIGNEE_DE_MAIN_-_Cabbac.mp3 as it has already been processed\n",
      "Skipping Libre_by_CybeR_AttaCK_-_CyberAttacK.mp3 as it has already been processed\n",
      "Skipping Culture_&_Co._-_cool.cavemen.mp3 as it has already been processed\n",
      "Skipping Confession_-_Quesabe.mp3 as it has already been processed\n",
      "Skipping Pluie_d'entre_deux_saisons_-_Midnight_Prefou.mp3 as it has already been processed\n",
      "Finished processing and copying vocals!\n"
     ]
    },
    {
     "name": "stderr",
     "output_type": "stream",
     "text": [
      "Processing MP3 files: 100%|██████████| 20/20 [00:00<00:00, 9186.95it/s]\n"
     ]
    },
    {
     "name": "stdout",
     "output_type": "stream",
     "text": [
      "Skipping Te_Recuerdo_-_Wilson_Way.mp3 as it has already been processed\n",
      "Skipping Quiero_y_Puedo_-_Nacidos_de_la_Tierra.mp3 as it has already been processed\n",
      "Skipping La_rumba_del_coronavirus_-_Rich_Don_Jeri.mp3 as it has already been processed\n",
      "Skipping Caralibro_-_Vagos_Permanentes.mp3 as it has already been processed\n",
      "Skipping Diosa_de_la_noche_-_Brunela_Crochenci.mp3 as it has already been processed\n",
      "Skipping Intentando_Destacar_-_Sundayers_.mp3 as it has already been processed\n",
      "Skipping Guayeteo_-_JhoyKing.mp3 as it has already been processed\n",
      "Skipping Fantasma_-_Los_Rombos.mp3 as it has already been processed\n",
      "Skipping Besando_Sapos_-_Dream_Tabu.mp3 as it has already been processed\n",
      "Skipping Palabras_-_Javier_Gomez_Bello.mp3 as it has already been processed\n",
      "Skipping ¡Óyeme_tiburón!_-_Corrientes.mp3 as it has already been processed\n",
      "Skipping Yuanan_-_Miedo_-_Yuanan.mp3 as it has already been processed\n",
      "Skipping te_amo_-_fabios_la_nueva_expresion_de_la_cancion.mp3 as it has already been processed\n",
      "Skipping Vente_-_Fafarulo_Calabaza.mp3 as it has already been processed\n",
      "Skipping Háblame_-_(Talk_to_me)_-_Brunela_Crochenci.mp3 as it has already been processed\n",
      "Skipping Esencia_-_NandoMalo_.mp3 as it has already been processed\n",
      "Skipping CLUB_DESTINO__-_Pensando_en_ti_-_CLUB_DESTINO.mp3 as it has already been processed\n",
      "Skipping Sin_miedo_-_Living_Camboya.mp3 as it has already been processed\n",
      "Skipping 10._Disparan_-_criatura.mp3 as it has already been processed\n",
      "Skipping Baila_-_Alfonso_Lugo.mp3 as it has already been processed\n",
      "Finished processing and copying vocals!\n"
     ]
    },
    {
     "name": "stderr",
     "output_type": "stream",
     "text": [
      "Processing MP3 files: 100%|██████████| 20/20 [00:00<00:00, 5715.87it/s]\n"
     ]
    },
    {
     "name": "stdout",
     "output_type": "stream",
     "text": [
      "Skipping Keine_Lust_-_Jonny_M.mp3 as it has already been processed\n",
      "Skipping Da_wurdest_du_geboren_-_Alice_Tlustos_.mp3 as it has already been processed\n",
      "Skipping Ich_kann_dich_nicht_vergessen_-_Wingenbach_Frank.mp3 as it has already been processed\n",
      "Skipping Sehnsucht-Unplugged_-_REH-TORTE.mp3 as it has already been processed\n",
      "Skipping Der_Musiker_-_d-music.mp3 as it has already been processed\n",
      "Skipping Freifliegen_-_durch.dick.und.duenn.mp3 as it has already been processed\n",
      "Skipping Veränderung_-_doromusis.mp3 as it has already been processed\n",
      "Skipping Musik_-_Heiko.mp3 as it has already been processed\n",
      "Skipping Die_Revolution_gehört_Dir!_-_partysahnen.mp3 as it has already been processed\n",
      "Skipping Bitte_beweg_dich_nicht_-_Bukto.mp3 as it has already been processed\n",
      "Skipping SHANEY_23_feat._G1NA_G._x_In_den_Strassen_-_Shaney_23.mp3 as it has already been processed\n",
      "Skipping Intro_[Pulsschlag]_-_Zeugen_der_Leere_(2).mp3 as it has already been processed\n",
      "Skipping Burn_Out_Man_-_Abendblau.mp3 as it has already been processed\n",
      "Skipping Der_Baum_-_Dienstag_is_Damensauna_(2).mp3 as it has already been processed\n",
      "Skipping Drei_Nüsse_-_patrouille.mp3 as it has already been processed\n",
      "Skipping Fußabdrücke_-_Andreas_Jachmann.mp3 as it has already been processed\n",
      "Skipping dich_gehen_zu_sehn._-_Wingenbach_Frank.mp3 as it has already been processed\n",
      "Skipping Schnodderdodder_-_Abendblau.mp3 as it has already been processed\n",
      "Skipping 1_Freak_-_Automatisch_Gekommen.mp3 as it has already been processed\n",
      "Skipping Cafe_Jenseitz_Bebelstraße_-_kangaroo.musique.mp3 as it has already been processed\n",
      "Finished processing and copying vocals!\n"
     ]
    },
    {
     "name": "stderr",
     "output_type": "stream",
     "text": [
      "Processing MP3 files:   0%|          | 0/20 [00:00<?, ?it/s]"
     ]
    },
    {
     "name": "stdout",
     "output_type": "stream",
     "text": [
      "Skipping Pure_Mids_-_The_Leader.mp3 as it has already been processed\n",
      "Skipping Songwriterz_-_Back_In_Time.mp3 as it has already been processed\n",
      "Skipping Explosive_Ear_Candy_-_Like_The_Sun.mp3 as it has already been processed\n",
      "Skipping Color_Out_-_Falling_Star.mp3 as it has already been processed\n",
      "Skipping Cortez_-_Feel__Stripped_.mp3 as it has already been processed\n",
      "Skipping Lower_Loveday_-_Is_It_Right_.mp3 as it has already been processed\n",
      "Skipping Kinematic_-_Peyote.mp3 as it has already been processed\n",
      "Skipping Slingshot_Miracle_-_Whistler.mp3 as it has already been processed\n",
      "Skipping HILA_-_Give_Me_the_Same.mp3 as it has already been processed\n",
      "Skipping The_Rinn_-_Voices__2017_Version_.mp3 as it has already been processed\n",
      "Processing Rxbyn_-_Bad_Side.mp3\n",
      "INFO:tensorflow:Using config: {'_model_dir': 'pretrained_models/2stems', '_tf_random_seed': None, '_save_summary_steps': 100, '_save_checkpoints_steps': None, '_save_checkpoints_secs': 600, '_session_config': gpu_options {\n",
      "  per_process_gpu_memory_fraction: 0.7\n",
      "}\n",
      ", '_keep_checkpoint_max': 5, '_keep_checkpoint_every_n_hours': 10000, '_log_step_count_steps': 100, '_train_distribute': None, '_device_fn': None, '_protocol': None, '_eval_distribute': None, '_experimental_distribute': None, '_experimental_max_worker_delay_secs': None, '_session_creation_timeout_secs': 7200, '_checkpoint_save_graph_def': True, '_service': None, '_cluster_spec': ClusterSpec({}), '_task_type': 'worker', '_task_id': 0, '_global_id_in_cluster': 0, '_master': '', '_evaluation_master': '', '_is_chief': True, '_num_ps_replicas': 0, '_num_worker_replicas': 1}\n",
      "INFO:tensorflow:Calling model_fn.\n",
      "INFO:tensorflow:Apply unet for vocals_spectrogram\n",
      "INFO:tensorflow:Apply unet for accompaniment_spectrogram\n",
      "INFO:tensorflow:Done calling model_fn.\n",
      "INFO:tensorflow:Graph was finalized.\n",
      "INFO:tensorflow:Restoring parameters from pretrained_models/2stems/model\n",
      "INFO:tensorflow:Running local_init_op.\n",
      "INFO:tensorflow:Done running local_init_op.\n"
     ]
    },
    {
     "name": "stderr",
     "output_type": "stream",
     "text": [
      "Processing MP3 files: 100%|██████████| 20/20 [00:38<00:00,  1.93s/it]"
     ]
    },
    {
     "name": "stdout",
     "output_type": "stream",
     "text": [
      "INFO:spleeter:File data_pipeline/English/separated/Rxbyn_-_Bad_Side/accompaniment.wav written succesfully\n",
      "INFO:spleeter:File data_pipeline/English/separated/Rxbyn_-_Bad_Side/vocals.wav written succesfully\n",
      "Skipping JASON_MILLER_-_CROWD_PLEASER.mp3 as it has already been processed\n",
      "Skipping Tom_Orlando_-_The_One__feat._Tina_G_.mp3 as it has already been processed\n",
      "Skipping The.madpix.project_-_One_Way_Street.mp3 as it has already been processed\n",
      "Skipping Avercage_-_Embers.mp3 as it has already been processed\n",
      "Skipping LUNABLIND_-_Vision__Radio_Edit_.mp3 as it has already been processed\n",
      "Skipping Wordsmith_-_The_Statement.mp3 as it has already been processed\n",
      "Skipping Ridgway_-_Fire_Inside.mp3 as it has already been processed\n",
      "Skipping Moon_I_Mean_-_Wrong_Concept.mp3 as it has already been processed\n",
      "Skipping Quentin_Hannappe_-_Keep_On.mp3 as it has already been processed\n",
      "Finished processing and copying vocals!\n"
     ]
    },
    {
     "name": "stderr",
     "output_type": "stream",
     "text": [
      "\n"
     ]
    }
   ],
   "source": [
    "from spleeter.separator import Separator\n",
    "import os\n",
    "from tqdm import tqdm\n",
    "import shutil\n",
    "\n",
    "def process_songs(dst_folder):\n",
    "    mp3_folder = os.path.join(dst_folder, 'mp3')\n",
    "    separated_folder = os.path.join(dst_folder, 'separated')\n",
    "    vocals_folder = os.path.join(dst_folder, 'vocals')\n",
    "\n",
    "    # Create directories if they don't exist\n",
    "    os.makedirs(separated_folder, exist_ok=True)\n",
    "    os.makedirs(vocals_folder, exist_ok=True)\n",
    "\n",
    "    def separate_vocals(filename):\n",
    "        # Use spleeter to separate into files in a temporary directory, and return a reference to the directory\n",
    "        separator = Separator('spleeter:2stems')\n",
    "        separator.separate_to_file(filename, destination=separated_folder)\n",
    "\n",
    "    mp3_files = [file for file in os.listdir(mp3_folder) if file.endswith('.mp3')]\n",
    "\n",
    "    for file in tqdm(mp3_files, desc=\"Processing MP3 files\"):\n",
    "        if os.path.exists(os.path.join(vocals_folder, f'{file[:-4]}_vocals.wav')):\n",
    "            print(f\"Skipping {file} as it has already been processed\")\n",
    "            continue\n",
    "        try:\n",
    "            print(f\"Processing {file}\")\n",
    "            separate_vocals(os.path.join(mp3_folder, file))\n",
    "            \n",
    "            # Copy the resulted vocals after separation\n",
    "            song_name = file[:-4]\n",
    "            vocals_path = os.path.join(separated_folder, song_name, 'vocals.wav')\n",
    "            shutil.copy(vocals_path, os.path.join(vocals_folder, f'{song_name}_vocals.wav'))\n",
    "        except Exception as e:\n",
    "            print(f\"Error processing {file}: {e}\")\n",
    "\n",
    "    print(\"Finished processing and copying vocals!\")\n",
    "\n",
    "# Example usage\n",
    "dst_folders = ['data_pipeline/French', 'data_pipeline/Spanish', 'data_pipeline/German', 'data_pipeline/English']\n",
    "for folder in dst_folders:\n",
    "    process_songs(folder)"
   ]
  }
 ],
 "metadata": {
  "kernelspec": {
   "display_name": "DeepAudio",
   "language": "python",
   "name": "python3"
  },
  "language_info": {
   "codemirror_mode": {
    "name": "ipython",
    "version": 3
   },
   "file_extension": ".py",
   "mimetype": "text/x-python",
   "name": "python",
   "nbconvert_exporter": "python",
   "pygments_lexer": "ipython3",
   "version": "3.10.15"
  }
 },
 "nbformat": 4,
 "nbformat_minor": 2
}
