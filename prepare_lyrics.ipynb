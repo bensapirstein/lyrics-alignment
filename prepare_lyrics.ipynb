{
 "cells": [
  {
   "cell_type": "markdown",
   "metadata": {},
   "source": [
    "Load openai and transliterate the lyrics to roman letters (english)."
   ]
  },
  {
   "cell_type": "code",
   "execution_count": 2,
   "metadata": {},
   "outputs": [],
   "source": [
    "# Prepare jamendo dataset\n",
    "# Split lyrics to English and Non-English\n",
    "# read jamendolyrics/JamendoLyrics.csv\n",
    "import pandas as pd\n",
    "\n",
    "df = pd.read_csv('jamendolyrics/JamendoLyrics.csv')"
   ]
  },
  {
   "cell_type": "code",
   "execution_count": 3,
   "metadata": {},
   "outputs": [],
   "source": [
    "import os\n",
    "import shutil\n",
    "\n",
    "models = [\"baseline\", \"bdr_baseline\", \"MTL\", \"bdr_MTL\"]\n",
    "\n",
    "for index, row in df.iterrows():\n",
    "    title = row['Filepath'][:-4]\n",
    "    lang = row['Language']\n",
    "\n",
    "    # create the directory if it doesn't exist\n",
    "    os.makedirs(f'data_pipeline/{lang}/lyrics_src', exist_ok=True)\n",
    "    os.makedirs(f'data_pipeline/{lang}/lyrics', exist_ok=True)\n",
    "    os.makedirs(f'data_pipeline/{lang}/mp3', exist_ok=True)\n",
    "    os.makedirs(f'data_pipeline/{lang}/annotations', exist_ok=True)\n",
    "\n",
    "    # Copy the lyric and mp3 files\n",
    "    if lang == \"English\":\n",
    "        shutil.copy(f'jamendolyrics/lyrics/{title}.words.txt', f'data_pipeline/{lang}/lyrics/{title}.words.txt')\n",
    "        shutil.copy(f'jamendolyrics/lyrics/{title}.txt', f'data_pipeline/{lang}/lyrics/{title}.txt')\n",
    "        shutil.copy(f'jamendolyrics/mp3/{title}.mp3', f'data_pipeline/{lang}/mp3/{title}.mp3')\n",
    "    else:\n",
    "        shutil.copy(f'jamendolyrics/lyrics/{title}.txt', f'data_pipeline/{lang}/lyrics_src/{title}.txt')\n",
    "        shutil.copy(f'jamendolyrics/mp3/{title}.mp3', f'data_pipeline/{lang}/mp3/{title}.mp3')\n",
    "\n",
    "    # Copy the annotations for both lines and words\n",
    "    shutil.copy(f'jamendolyrics/annotations/lines/{title}.csv', f'data_pipeline/{lang}/annotations/{title}.lines.csv')\n",
    "    shutil.copy(f'jamendolyrics/annotations/words/{title}.csv', f'data_pipeline/{lang}/annotations/{title}.words.csv')\n",
    "\n",
    "    # Create another copy under a prediction directory\n",
    "    os.makedirs(f'predictions/{lang}/annotations', exist_ok=True)\n",
    "    shutil.copy(f'jamendolyrics/annotations/lines/{title}.csv', f'predictions/{lang}/annotations/{title}.lines.csv')\n",
    "    shutil.copy(f'jamendolyrics/annotations/words/{title}.csv', f'predictions/{lang}/annotations/{title}.words.csv')\n",
    "\n",
    "    # Copy the results of the predictions for each model, if they exist\n",
    "    for model in models:\n",
    "        os.makedirs(f'predictions/{lang}/{model}', exist_ok=True)\n",
    "        if os.path.exists(f'data_pipeline/{lang}/predictions_{model}/{title}_align.csv'):\n",
    "            shutil.copy(f'data_pipeline/{lang}/predictions_{model}/{title}_align.csv', f'predictions/{lang}/{model}/{title}_align.csv')\n",
    "\n"
   ]
  },
  {
   "cell_type": "code",
   "execution_count": null,
   "metadata": {},
   "outputs": [
    {
     "name": "stdout",
     "output_type": "stream",
     "text": []
    },
    {
     "name": "stdout",
     "output_type": "stream",
     "text": []
    },
    {
     "name": "stdout",
     "output_type": "stream",
     "text": []
    },
    {
     "name": "stdout",
     "output_type": "stream",
     "text": []
    },
    {
     "name": "stdout",
     "output_type": "stream",
     "text": []
    }
   ],
   "source": [
    "from src.transliteration import process_lyrics\n",
    "\n",
    "# process_lyrics(\"data_pipeline/Semitic\", 'Arabic Hebrew')\n",
    "\n",
    "failed = {'Spanish': ['Baila_-_Alfonso_Lugo.txt', '10._Disparan_-_criatura.txt', 'Quiero_y_Puedo_-_Nacidos_de_la_Tierra.txt', 'Besando_Sapos_-_Dream_Tabu.txt', 'Guayeteo_-_JhoyKing.txt'],\n",
    "          'French': ['POIGNEE_DE_MAIN_-_Cabbac.txt', \"Mère_nature_-_Law'.txt\", 'En_liberté_-_tom.leyak.txt', 'Une_Vie_De_Roi_-_david.txt'],\n",
    "          \"German\": ['dich_gehen_zu_sehn._-_Wingenbach_Frank.txt', 'Drei_Nüsse_-_patrouille.txt', 'Der_Baum_-_Dienstag_is_Damensauna_(2).txt', '1_Freak_-_Automatisch_Gekommen.txt', 'Schnodderdodder_-_Abendblau.txt', 'Keine_Lust_-_Jonny_M.txt']}\n",
    "\n",
    "for lang in [\"French\"]:\n",
    "    process_lyrics(f'data_pipeline/{lang}', lang)"
   ]
  }
 ],
 "metadata": {
  "kernelspec": {
   "display_name": "DeepAudio",
   "language": "python",
   "name": "python3"
  },
  "language_info": {
   "codemirror_mode": {
    "name": "ipython",
    "version": 3
   },
   "file_extension": ".py",
   "mimetype": "text/x-python",
   "name": "python",
   "nbconvert_exporter": "python",
   "pygments_lexer": "ipython3",
   "version": "3.10.15"
  }
 },
 "nbformat": 4,
 "nbformat_minor": 2
}
