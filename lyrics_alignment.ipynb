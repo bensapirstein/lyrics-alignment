{
 "cells": [
  {
   "cell_type": "markdown",
   "metadata": {},
   "source": [
    "# Install Required Libraries\n",
    "Install the necessary libraries using the environment.yml file."
   ]
  },
  {
   "cell_type": "code",
   "execution_count": null,
   "metadata": {},
   "outputs": [],
   "source": [
    "# Install the necessary libraries using the environment.yml file\n",
    "!pip install pyyaml\n",
    "import yaml\n",
    "\n",
    "# Load the environment.yml file\n",
    "with open('environment.yml', 'r') as file:\n",
    "    environment = yaml.safe_load(file)\n",
    "\n",
    "# Install dependencies\n",
    "for dependency in environment['dependencies']:\n",
    "    if isinstance(dependency, str):\n",
    "        !conda install -y {dependency}\n",
    "    elif isinstance(dependency, dict) and 'pip' in dependency:\n",
    "        for pip_dependency in dependency['pip']:\n",
    "            !pip install {pip_dependency}"
   ]
  },
  {
   "cell_type": "markdown",
   "metadata": {},
   "source": [
    "# Import Required Libraries\n",
    "Import the necessary libraries, including argparse, whisper, spleeter, and tempfile."
   ]
  },
  {
   "cell_type": "code",
   "execution_count": null,
   "metadata": {},
   "outputs": [],
   "source": [
    "# Import Required Libraries\n",
    "import argparse\n",
    "import whisper\n",
    "from spleeter.separator import Separator\n",
    "import tempfile"
   ]
  },
  {
   "cell_type": "markdown",
   "metadata": {},
   "source": [
    "# Define Helper Functions\n",
    "Define the helper functions for separating vocals, getting segments, and aligning lyrics."
   ]
  },
  {
   "cell_type": "code",
   "execution_count": null,
   "metadata": {},
   "outputs": [],
   "source": [
    "# Define Helper Functions\n",
    "\n",
    "def separated_vocals(filename):\n",
    "    # Use spleeter to separate into files in a temporary directory, and return a reference to the directory\n",
    "    separator = Separator('spleeter:2stems')\n",
    "    temp_dir = tempfile.TemporaryDirectory()\n",
    "    separator.separate_to_file(filename, temp_dir.name)\n",
    "    return temp_dir\n",
    "\n",
    "def jaccard_similarity(sent1, sent2):\n",
    "    \"\"\"Find text similarity using jaccard similarity\"\"\"\n",
    "    # Tokenize sentences\n",
    "    token1 = set(sent1.split())\n",
    "    token2 = set(sent2.split())\n",
    "     \n",
    "    # intersection between tokens of two sentences    \n",
    "    intersection_tokens = token1.intersection(token2)\n",
    "    \n",
    "    # Union between tokens of two sentences\n",
    "    union_tokens=token1.union(token2)\n",
    "    \n",
    "    sim_= float(len(intersection_tokens) / len(union_tokens))\n",
    "    return sim_\n",
    "\n",
    "def get_segments(vocal_filename, model_size=\"medium\"):\n",
    "    model = whisper.load_model(model_size)\n",
    "    result = model.transcribe(vocal_filename)\n",
    "    print(f\"Segments: {len(result['segments'])}\")\n",
    "    return result['segments']\n",
    "\n",
    "def sync_segments(lyrics, segments):\n",
    "    lyrics_synced = []\n",
    "    lyrics_unsynced = lyrics.split('\\n')\n",
    "\n",
    "    for segment in segments:\n",
    "        top_similarity = 0.0\n",
    "        top_similarity_final_index = 1\n",
    "        \n",
    "        for i in range(1, len(lyrics_unsynced)):\n",
    "            trial_text = ' '.join(lyrics_unsynced[:i])\n",
    "            trial_similarity = jaccard_similarity(trial_text, segment['text'])\n",
    "            if trial_similarity > top_similarity:\n",
    "                top_similarity = trial_similarity\n",
    "                top_similarity_final_index = i\n",
    "        lyrics_synced = lyrics_synced + list(map(lambda x: f\"[{math.floor(segment['start']/60):02d}:{math.floor(segment['start'] % 60):02d}.00] {x}\\n\", lyrics_unsynced[:top_similarity_final_index]))\n",
    "        lyrics_unsynced = lyrics_unsynced[top_similarity_final_index:]\n",
    "\n",
    "        \n",
    "    lyrics_synced = lyrics_synced + list(map(lambda x: f\"[{math.floor(segments[-1]['start']/60):02d}:{math.floor(segments[-1]['start'] % 60):02d}.00] {x}\\n\", lyrics_unsynced[0:]))\n",
    "        \n",
    "    return lyrics_synced"
   ]
  },
  {
   "cell_type": "markdown",
   "metadata": {},
   "source": [
    "# Load Audio and Lyrics Files\n",
    "Load the audio and lyrics files from the specified paths."
   ]
  },
  {
   "cell_type": "code",
   "execution_count": null,
   "metadata": {},
   "outputs": [],
   "source": [
    "# Load Audio and Lyrics Files\n",
    "\n",
    "# Define paths to the audio and lyrics files\n",
    "audio_file_path = 'path/to/your/audio/file.mp3'\n",
    "lyrics_file_path = 'path/to/your/lyrics/file.txt'\n",
    "\n",
    "# Load the lyrics file\n",
    "with open(lyrics_file_path, 'r') as file:\n",
    "    lyrics = file.read()\n",
    "\n",
    "# Print the first few lines of the lyrics to verify\n",
    "print(lyrics.split('\\n')[:10])"
   ]
  },
  {
   "cell_type": "markdown",
   "metadata": {},
   "source": [
    "# Separate Vocals from Music\n",
    "Use the spleeter library to separate the vocals from the music."
   ]
  },
  {
   "cell_type": "code",
   "execution_count": null,
   "metadata": {},
   "outputs": [],
   "source": [
    "# Separate Vocals from Music\n",
    "\n",
    "# Separate the vocals from the music using the `separated_vocals` function\n",
    "temp_dir = separated_vocals(audio_file_path)\n",
    "\n",
    "# Define the path to the separated vocals file\n",
    "vocal_file_name = f\"{temp_dir.name}/{audio_file_path.split('/')[-1].split('.')[0]}/vocals.wav\"\n",
    "\n",
    "# Print the path to the separated vocals file to verify\n",
    "print(vocal_file_name)"
   ]
  },
  {
   "cell_type": "markdown",
   "metadata": {},
   "source": [
    "# Get Segments from Vocals\n",
    "Use the whisper library to get segments from the separated vocals."
   ]
  },
  {
   "cell_type": "code",
   "execution_count": null,
   "metadata": {},
   "outputs": [],
   "source": [
    "# Get Segments from Vocals\n",
    "\n",
    "# Use the whisper library to get segments from the separated vocals\n",
    "segments = get_segments(vocal_file_name)\n",
    "\n",
    "# Print the first few segments to verify\n",
    "print(segments[:10])"
   ]
  },
  {
   "cell_type": "markdown",
   "metadata": {},
   "source": [
    "# Align Lyrics with Segments\n",
    "Align the lyrics with the segments using the defined helper functions."
   ]
  },
  {
   "cell_type": "code",
   "execution_count": null,
   "metadata": {},
   "outputs": [],
   "source": [
    "# Align Lyrics with Segments\n",
    "\n",
    "# Align the lyrics with the segments using the defined helper functions\n",
    "aligned_lyrics = sync_segments(lyrics, segments)\n",
    "\n",
    "# Print the first few lines of the aligned lyrics to verify\n",
    "print(aligned_lyrics[:10])\n",
    "\n",
    "# Save Aligned Lyrics to File\n",
    "\n",
    "# Define the output file path\n",
    "output_file_path = 'path/to/your/output/file.lrc'\n",
    "\n",
    "# Save the aligned lyrics to the output file\n",
    "with open(output_file_path, 'w') as file:\n",
    "    file.writelines(aligned_lyrics)\n",
    "\n",
    "# Print a message to confirm that the aligned lyrics have been saved\n",
    "print(f\"Aligned lyrics have been saved to {output_file_path}\")"
   ]
  },
  {
   "cell_type": "markdown",
   "metadata": {},
   "source": [
    "# Save Aligned Lyrics to File\n",
    "Save the aligned lyrics to a file in the specified format."
   ]
  },
  {
   "cell_type": "code",
   "execution_count": null,
   "metadata": {},
   "outputs": [],
   "source": [
    "# Save Aligned Lyrics to File\n",
    "\n",
    "# Define the output file path\n",
    "output_file_path = 'path/to/your/output/file.lrc'\n",
    "\n",
    "# Save the aligned lyrics to the output file\n",
    "with open(output_file_path, 'w') as file:\n",
    "    file.writelines(aligned_lyrics)\n",
    "\n",
    "# Print a message to confirm that the aligned lyrics have been saved\n",
    "print(f\"Aligned lyrics have been saved to {output_file_path}\")"
   ]
  }
 ],
 "metadata": {
  "language_info": {
   "name": "python"
  }
 },
 "nbformat": 4,
 "nbformat_minor": 2
}
